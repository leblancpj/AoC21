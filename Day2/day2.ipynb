{
 "cells": [
  {
   "cell_type": "code",
   "execution_count": 13,
   "metadata": {},
   "outputs": [
    {
     "data": {
      "text/plain": [
       "['5', '5', '8', '3', '8', '2']"
      ]
     },
     "execution_count": 13,
     "metadata": {},
     "output_type": "execute_result"
    }
   ],
   "source": [
    "filepath = \"C:\\\\Users\\\\meb264\\\\OneDrive - Oxy\\\\_CODE_PROJECTS\\\\PyProjects\\\\AoC\\\\AoC21\\\\Day2\\\\sample.txt\"\n",
    "commands = open(filepath).read().split(\"\\n\")\n",
    "#commands = [command.split(\" \") for command in commands]\n",
    "dirs = [command.split(\" \")[0] for command in commands]\n",
    "quants = [command.split(\" \")[1] for command in commands]"
   ]
  },
  {
   "cell_type": "code",
   "execution_count": 6,
   "metadata": {},
   "outputs": [
    {
     "data": {
      "text/plain": [
       "[['forward', '5'],\n",
       " ['down', '5'],\n",
       " ['forward', '8'],\n",
       " ['up', '3'],\n",
       " ['down', '8'],\n",
       " ['forward', '2']]"
      ]
     },
     "execution_count": 6,
     "metadata": {},
     "output_type": "execute_result"
    }
   ],
   "source": [
    "up_list = [x for x,y in zip]"
   ]
  }
 ],
 "metadata": {
  "interpreter": {
   "hash": "a93c8c44829e2361f1ac2428e99a215b5ee9ce302c183603ecfc14f86603acf0"
  },
  "kernelspec": {
   "display_name": "Python 3.9.9 64-bit (windows store)",
   "language": "python",
   "name": "python3"
  },
  "language_info": {
   "codemirror_mode": {
    "name": "ipython",
    "version": 3
   },
   "file_extension": ".py",
   "mimetype": "text/x-python",
   "name": "python",
   "nbconvert_exporter": "python",
   "pygments_lexer": "ipython3",
   "version": "3.9.9"
  },
  "orig_nbformat": 4
 },
 "nbformat": 4,
 "nbformat_minor": 2
}
